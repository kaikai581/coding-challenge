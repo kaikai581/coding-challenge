{
 "cells": [
  {
   "cell_type": "code",
   "execution_count": 1,
   "metadata": {},
   "outputs": [],
   "source": [
    "# My first working, brute force version.\n",
    "def lengthOfLIS(nums):\n",
    "    def bt(nums, idx, last_idx, cur_len):\n",
    "        if idx == len(nums):\n",
    "            return cur_len\n",
    "        \n",
    "        ninc = 1\n",
    "        if (last_idx is None) or (nums[idx] > nums[last_idx]): # include nums[idx] to the answer\n",
    "            ninc = bt(nums, idx+1, idx, cur_len+1)\n",
    "        nexc = bt(nums, idx+1, last_idx, cur_len) # exclude nums[idx] from the answer\n",
    "        return max(ninc, nexc)\n",
    "    \n",
    "    return bt(nums, 0, None, 0)"
   ]
  },
  {
   "cell_type": "code",
   "execution_count": 2,
   "metadata": {},
   "outputs": [
    {
     "name": "stdout",
     "output_type": "stream",
     "text": [
      "4\n",
      "4\n",
      "1\n"
     ]
    }
   ],
   "source": [
    "print(lengthOfLIS([10,9,2,5,3,7,101,18])) # Ans: 4\n",
    "print(lengthOfLIS([0,1,0,3,2,3])) # Ans: 4\n",
    "print(lengthOfLIS([7,7,7,7,7,7,7])) # Ans: 1"
   ]
  },
  {
   "cell_type": "code",
   "execution_count": null,
   "metadata": {},
   "outputs": [],
   "source": []
  }
 ],
 "metadata": {
  "interpreter": {
   "hash": "464cb4416c1bbb1013f12739a10e028ffee1bbadc4388d1a4e097aa1340e7516"
  },
  "kernelspec": {
   "display_name": "Python 3.9.10 ('conda-forge')",
   "language": "python",
   "name": "python3"
  },
  "language_info": {
   "codemirror_mode": {
    "name": "ipython",
    "version": 3
   },
   "file_extension": ".py",
   "mimetype": "text/x-python",
   "name": "python",
   "nbconvert_exporter": "python",
   "pygments_lexer": "ipython3",
   "version": "3.9.10"
  },
  "orig_nbformat": 4
 },
 "nbformat": 4,
 "nbformat_minor": 2
}
