{
 "cells": [
  {
   "cell_type": "code",
   "execution_count": 23,
   "metadata": {},
   "outputs": [],
   "source": [
    "def removeElement(nums, val):\n",
    "    sidx = 0\n",
    "    eidx = len(nums)-1\n",
    "    while sidx < eidx:\n",
    "        if nums[sidx] == val:\n",
    "            while nums[eidx] == val:\n",
    "                eidx -= 1\n",
    "                if eidx < 0:\n",
    "                    print(nums)\n",
    "                    return 0\n",
    "            nums[sidx], nums[eidx] = nums[eidx], nums[sidx]\n",
    "            eidx -= 1\n",
    "        sidx += 1\n",
    "    print(nums)\n",
    "    return eidx + (nums[eidx] != val)"
   ]
  },
  {
   "cell_type": "code",
   "execution_count": 24,
   "metadata": {},
   "outputs": [
    {
     "name": "stdout",
     "output_type": "stream",
     "text": [
      "[2, 2, 3, 3]\n",
      "2\n",
      "[0, 1, 4, 0, 3, 2, 2, 2]\n",
      "5\n",
      "[3, 2, 2]\n",
      "1\n",
      "[3, 3]\n",
      "0\n",
      "[2]\n",
      "1\n",
      "[1]\n",
      "0\n",
      "[3, 2, 3]\n",
      "-1\n"
     ]
    }
   ],
   "source": [
    "print(removeElement([3,2,2,3], 3))\n",
    "print(removeElement([0,1,2,2,3,0,4,2], 2))\n",
    "print(removeElement([2,2,3], 2))\n",
    "print(removeElement([3,3], 3))\n",
    "print(removeElement([2], 3))\n",
    "print(removeElement([1], 1))\n",
    "print(removeElement([2,3,3], 3))"
   ]
  },
  {
   "cell_type": "code",
   "execution_count": 32,
   "metadata": {},
   "outputs": [],
   "source": [
    "def removeElement2(nums, val):\n",
    "    if len(nums) == 0:\n",
    "        print([])\n",
    "        return 0\n",
    "    sidx = 0\n",
    "    eidx = len(nums)-1\n",
    "    while sidx < eidx:\n",
    "        while nums[sidx] == val and eidx > sidx:\n",
    "            nums[sidx], nums[eidx] = nums[eidx], nums[sidx]\n",
    "            eidx -= 1\n",
    "        sidx += 1\n",
    "    print(nums)\n",
    "    return eidx + (nums[eidx] != val)"
   ]
  },
  {
   "cell_type": "code",
   "execution_count": 33,
   "metadata": {},
   "outputs": [
    {
     "name": "stdout",
     "output_type": "stream",
     "text": [
      "[2, 2, 3, 3]\n",
      "2\n",
      "[0, 1, 4, 0, 3, 2, 2, 2]\n",
      "5\n",
      "[3, 2, 2]\n",
      "1\n",
      "[3, 3]\n",
      "0\n",
      "[2]\n",
      "1\n",
      "[1]\n",
      "0\n",
      "[2, 3, 3]\n",
      "1\n",
      "[]\n",
      "0\n"
     ]
    }
   ],
   "source": [
    "print(removeElement2([3,2,2,3], 3))\n",
    "print(removeElement2([0,1,2,2,3,0,4,2], 2))\n",
    "print(removeElement2([2,2,3], 2))\n",
    "print(removeElement2([3,3], 3))\n",
    "print(removeElement2([2], 3))\n",
    "print(removeElement2([1], 1))\n",
    "print(removeElement2([2,3,3], 3))\n",
    "print(removeElement2([], 1))"
   ]
  },
  {
   "cell_type": "markdown",
   "metadata": {},
   "source": [
    "Finally, after 10 submissions, I passed this problem...  "
   ]
  },
  {
   "cell_type": "markdown",
   "metadata": {},
   "source": []
  }
 ],
 "metadata": {
  "interpreter": {
   "hash": "20df82c59a1dd71677f935d2bf9e1b513358c02e91b2a6663cbeb34b2cc86700"
  },
  "kernelspec": {
   "display_name": "Python 3.9.10 ('conda-forge')",
   "language": "python",
   "name": "python3"
  },
  "language_info": {
   "codemirror_mode": {
    "name": "ipython",
    "version": 3
   },
   "file_extension": ".py",
   "mimetype": "text/x-python",
   "name": "python",
   "nbconvert_exporter": "python",
   "pygments_lexer": "ipython3",
   "version": "3.9.10"
  },
  "orig_nbformat": 4
 },
 "nbformat": 4,
 "nbformat_minor": 2
}
