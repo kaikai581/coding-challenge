{
 "cells": [
  {
   "cell_type": "code",
   "execution_count": 3,
   "metadata": {},
   "outputs": [],
   "source": [
    "# The backtracking implementation, which exceeds the time limit.\n",
    "def rob_bt(nums):\n",
    "    def bt(nums, pat, tots):\n",
    "        if len(pat) == len(nums):\n",
    "            tots.append(sum(nums[i]*pat[i] for i in range(len(nums))))\n",
    "            return\n",
    "        if len(pat) == 0:\n",
    "            bt(nums, pat+[0], tots)\n",
    "            bt(nums, pat+[1], tots)\n",
    "        else:\n",
    "            if pat[-1] == 0:\n",
    "                bt(nums, pat+[0], tots)\n",
    "                bt(nums, pat+[1], tots)\n",
    "            else:\n",
    "                bt(nums, pat+[0], tots)\n",
    "    \n",
    "    tots = []\n",
    "    bt(nums, [], tots)\n",
    "    \n",
    "    return max(tots)"
   ]
  },
  {
   "cell_type": "code",
   "execution_count": 15,
   "metadata": {},
   "outputs": [],
   "source": [
    "import heapq\n",
    "def rob(nums):\n",
    "    val_idx = [(v, i) for i, v in enumerate(nums)]\n",
    "    heapq._heapify_max(val_idx)\n",
    "    proh_idx = set()\n",
    "    res = 0\n",
    "    while val_idx:\n",
    "        v, i = heapq._heappop_max(val_idx)\n",
    "        if not i in proh_idx:\n",
    "            res += v\n",
    "            for j in range(-1, 2):\n",
    "                if i+j >= 0 and i+j < len(nums):\n",
    "                    proh_idx.add(i+j)\n",
    "    return res"
   ]
  },
  {
   "cell_type": "code",
   "execution_count": 19,
   "metadata": {},
   "outputs": [
    {
     "name": "stdout",
     "output_type": "stream",
     "text": [
      "4\n",
      "12\n",
      "3\n"
     ]
    }
   ],
   "source": [
    "print(rob([1,2,3,1]))\n",
    "print(rob([2,7,9,3,1]))\n",
    "print(rob([2,3,2])) # wromg answer. correct answer 4"
   ]
  },
  {
   "cell_type": "markdown",
   "metadata": {},
   "source": [
    "Greedy algorithm does not work."
   ]
  },
  {
   "cell_type": "markdown",
   "metadata": {},
   "source": [
    "# dynamic programming\n",
    "max_prof = [list(range)]"
   ]
  }
 ],
 "metadata": {
  "interpreter": {
   "hash": "20df82c59a1dd71677f935d2bf9e1b513358c02e91b2a6663cbeb34b2cc86700"
  },
  "kernelspec": {
   "display_name": "Python 3.9.10 ('conda-forge')",
   "language": "python",
   "name": "python3"
  },
  "language_info": {
   "codemirror_mode": {
    "name": "ipython",
    "version": 3
   },
   "file_extension": ".py",
   "mimetype": "text/x-python",
   "name": "python",
   "nbconvert_exporter": "python",
   "pygments_lexer": "ipython3",
   "version": "3.9.10"
  },
  "orig_nbformat": 4
 },
 "nbformat": 4,
 "nbformat_minor": 2
}
