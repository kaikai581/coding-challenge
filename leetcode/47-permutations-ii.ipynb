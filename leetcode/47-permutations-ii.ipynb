{
 "cells": [
  {
   "cell_type": "code",
   "execution_count": 4,
   "metadata": {},
   "outputs": [],
   "source": [
    "def permute(nums):\n",
    "    def bt(nums, idx, pat, ans):\n",
    "        if len(pat) == len(nums):\n",
    "            ans.append(pat)\n",
    "            return\n",
    "        for i in range(idx, len(nums)):\n",
    "            nums[i], nums[idx] = nums[idx], nums[i]\n",
    "            bt(nums, idx+1, pat+[nums[idx]], ans)\n",
    "            nums[i], nums[idx] = nums[idx], nums[i]\n",
    "    ans = []\n",
    "    bt(nums, 0, [], ans)\n",
    "    return ans"
   ]
  },
  {
   "cell_type": "code",
   "execution_count": 5,
   "metadata": {},
   "outputs": [
    {
     "name": "stdout",
     "output_type": "stream",
     "text": [
      "[[1, 2, 3], [1, 3, 2], [2, 1, 3], [2, 3, 1], [3, 2, 1], [3, 1, 2]]\n",
      "[[1, 1, 2], [1, 2, 1], [1, 1, 2], [1, 2, 1], [2, 1, 1], [2, 1, 1]]\n"
     ]
    }
   ],
   "source": [
    "print(permute([1, 2, 3]))\n",
    "print(permute([1, 1, 2]))"
   ]
  },
  {
   "cell_type": "code",
   "execution_count": 24,
   "metadata": {},
   "outputs": [],
   "source": [
    "def permuteUnique(nums):\n",
    "    def bt(nums, idx, seen, pat, ans):\n",
    "        if len(pat) == len(nums):\n",
    "            ans.append(pat)\n",
    "            return\n",
    "        bt(nums, idx+1, seen, pat+[nums[idx]], ans)\n",
    "        for i in range(idx+1, len(nums)):\n",
    "            if not nums[idx] in seen:\n",
    "                seen.add(nums[i])\n",
    "                nums[i], nums[idx] = nums[idx], nums[i]\n",
    "                bt(nums, idx+1, seen, pat+[nums[idx]], ans)\n",
    "                nums[i], nums[idx] = nums[idx], nums[i]\n",
    "                seen.remove(nums[i])\n",
    "            # print(seen, nums[i])\n",
    "    ans = []\n",
    "    bt(nums, 0, set(), [], ans)\n",
    "    return ans"
   ]
  },
  {
   "cell_type": "code",
   "execution_count": 25,
   "metadata": {},
   "outputs": [
    {
     "name": "stdout",
     "output_type": "stream",
     "text": [
      "[[1, 2, 3], [1, 3, 2], [2, 1, 3], [2, 3, 1], [3, 2, 1], [3, 1, 2]]\n",
      "[[1, 1, 2], [1, 2, 1], [1, 1, 2], [2, 1, 1], [2, 1, 1]]\n"
     ]
    },
    {
     "ename": "KeyError",
     "evalue": "1",
     "output_type": "error",
     "traceback": [
      "\u001b[1;31m---------------------------------------------------------------------------\u001b[0m",
      "\u001b[1;31mKeyError\u001b[0m                                  Traceback (most recent call last)",
      "\u001b[1;32mc:\\Users\\kaika\\work\\git-repos\\coding-challenge\\leetcode\\47-permutations-ii.ipynb Cell 4'\u001b[0m in \u001b[0;36m<module>\u001b[1;34m\u001b[0m\n\u001b[0;32m      <a href='vscode-notebook-cell:/c%3A/Users/kaika/work/git-repos/coding-challenge/leetcode/47-permutations-ii.ipynb#ch0000003?line=0'>1</a>\u001b[0m \u001b[39mprint\u001b[39m(permuteUnique([\u001b[39m1\u001b[39m, \u001b[39m2\u001b[39m, \u001b[39m3\u001b[39m]))\n\u001b[0;32m      <a href='vscode-notebook-cell:/c%3A/Users/kaika/work/git-repos/coding-challenge/leetcode/47-permutations-ii.ipynb#ch0000003?line=1'>2</a>\u001b[0m \u001b[39mprint\u001b[39m(permuteUnique([\u001b[39m1\u001b[39m, \u001b[39m1\u001b[39m, \u001b[39m2\u001b[39m]))\n\u001b[1;32m----> <a href='vscode-notebook-cell:/c%3A/Users/kaika/work/git-repos/coding-challenge/leetcode/47-permutations-ii.ipynb#ch0000003?line=2'>3</a>\u001b[0m \u001b[39mprint\u001b[39m(permuteUnique([\u001b[39m2\u001b[39;49m, \u001b[39m2\u001b[39;49m, \u001b[39m1\u001b[39;49m, \u001b[39m1\u001b[39;49m]))\n",
      "\u001b[1;32mc:\\Users\\kaika\\work\\git-repos\\coding-challenge\\leetcode\\47-permutations-ii.ipynb Cell 3'\u001b[0m in \u001b[0;36mpermuteUnique\u001b[1;34m(nums)\u001b[0m\n\u001b[0;32m     <a href='vscode-notebook-cell:/c%3A/Users/kaika/work/git-repos/coding-challenge/leetcode/47-permutations-ii.ipynb#ch0000002?line=13'>14</a>\u001b[0m         \u001b[39m# print(seen, nums[i])\u001b[39;00m\n\u001b[0;32m     <a href='vscode-notebook-cell:/c%3A/Users/kaika/work/git-repos/coding-challenge/leetcode/47-permutations-ii.ipynb#ch0000002?line=14'>15</a>\u001b[0m ans \u001b[39m=\u001b[39m []\n\u001b[1;32m---> <a href='vscode-notebook-cell:/c%3A/Users/kaika/work/git-repos/coding-challenge/leetcode/47-permutations-ii.ipynb#ch0000002?line=15'>16</a>\u001b[0m bt(nums, \u001b[39m0\u001b[39;49m, \u001b[39mset\u001b[39;49m(), [], ans)\n\u001b[0;32m     <a href='vscode-notebook-cell:/c%3A/Users/kaika/work/git-repos/coding-challenge/leetcode/47-permutations-ii.ipynb#ch0000002?line=16'>17</a>\u001b[0m \u001b[39mreturn\u001b[39;00m ans\n",
      "\u001b[1;32mc:\\Users\\kaika\\work\\git-repos\\coding-challenge\\leetcode\\47-permutations-ii.ipynb Cell 3'\u001b[0m in \u001b[0;36mpermuteUnique.<locals>.bt\u001b[1;34m(nums, idx, seen, pat, ans)\u001b[0m\n\u001b[0;32m      <a href='vscode-notebook-cell:/c%3A/Users/kaika/work/git-repos/coding-challenge/leetcode/47-permutations-ii.ipynb#ch0000002?line=3'>4</a>\u001b[0m     ans\u001b[39m.\u001b[39mappend(pat)\n\u001b[0;32m      <a href='vscode-notebook-cell:/c%3A/Users/kaika/work/git-repos/coding-challenge/leetcode/47-permutations-ii.ipynb#ch0000002?line=4'>5</a>\u001b[0m     \u001b[39mreturn\u001b[39;00m\n\u001b[1;32m----> <a href='vscode-notebook-cell:/c%3A/Users/kaika/work/git-repos/coding-challenge/leetcode/47-permutations-ii.ipynb#ch0000002?line=5'>6</a>\u001b[0m bt(nums, idx\u001b[39m+\u001b[39;49m\u001b[39m1\u001b[39;49m, seen, pat\u001b[39m+\u001b[39;49m[nums[idx]], ans)\n\u001b[0;32m      <a href='vscode-notebook-cell:/c%3A/Users/kaika/work/git-repos/coding-challenge/leetcode/47-permutations-ii.ipynb#ch0000002?line=6'>7</a>\u001b[0m \u001b[39mfor\u001b[39;00m i \u001b[39min\u001b[39;00m \u001b[39mrange\u001b[39m(idx\u001b[39m+\u001b[39m\u001b[39m1\u001b[39m, \u001b[39mlen\u001b[39m(nums)):\n\u001b[0;32m      <a href='vscode-notebook-cell:/c%3A/Users/kaika/work/git-repos/coding-challenge/leetcode/47-permutations-ii.ipynb#ch0000002?line=7'>8</a>\u001b[0m     \u001b[39mif\u001b[39;00m \u001b[39mnot\u001b[39;00m nums[idx] \u001b[39min\u001b[39;00m seen:\n",
      "\u001b[1;32mc:\\Users\\kaika\\work\\git-repos\\coding-challenge\\leetcode\\47-permutations-ii.ipynb Cell 3'\u001b[0m in \u001b[0;36mpermuteUnique.<locals>.bt\u001b[1;34m(nums, idx, seen, pat, ans)\u001b[0m\n\u001b[0;32m     <a href='vscode-notebook-cell:/c%3A/Users/kaika/work/git-repos/coding-challenge/leetcode/47-permutations-ii.ipynb#ch0000002?line=10'>11</a>\u001b[0m bt(nums, idx\u001b[39m+\u001b[39m\u001b[39m1\u001b[39m, seen, pat\u001b[39m+\u001b[39m[nums[idx]], ans)\n\u001b[0;32m     <a href='vscode-notebook-cell:/c%3A/Users/kaika/work/git-repos/coding-challenge/leetcode/47-permutations-ii.ipynb#ch0000002?line=11'>12</a>\u001b[0m nums[i], nums[idx] \u001b[39m=\u001b[39m nums[idx], nums[i]\n\u001b[1;32m---> <a href='vscode-notebook-cell:/c%3A/Users/kaika/work/git-repos/coding-challenge/leetcode/47-permutations-ii.ipynb#ch0000002?line=12'>13</a>\u001b[0m seen\u001b[39m.\u001b[39;49mremove(nums[i])\n",
      "\u001b[1;31mKeyError\u001b[0m: 1"
     ]
    }
   ],
   "source": [
    "print(permuteUnique([1, 2, 3]))\n",
    "print(permuteUnique([1, 1, 2]))\n",
    "print(permuteUnique([2, 2, 1, 1]))"
   ]
  },
  {
   "cell_type": "code",
   "execution_count": null,
   "metadata": {},
   "outputs": [],
   "source": []
  }
 ],
 "metadata": {
  "interpreter": {
   "hash": "20df82c59a1dd71677f935d2bf9e1b513358c02e91b2a6663cbeb34b2cc86700"
  },
  "kernelspec": {
   "display_name": "Python 3.9.10 ('conda-forge')",
   "language": "python",
   "name": "python3"
  },
  "language_info": {
   "codemirror_mode": {
    "name": "ipython",
    "version": 3
   },
   "file_extension": ".py",
   "mimetype": "text/x-python",
   "name": "python",
   "nbconvert_exporter": "python",
   "pygments_lexer": "ipython3",
   "version": "3.9.10"
  },
  "orig_nbformat": 4
 },
 "nbformat": 4,
 "nbformat_minor": 2
}
