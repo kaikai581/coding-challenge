{
 "cells": [
  {
   "cell_type": "code",
   "execution_count": 7,
   "metadata": {},
   "outputs": [],
   "source": [
    "def isHappy(n):\n",
    "    seen = set()\n",
    "    m = n\n",
    "    for _ in range(10):\n",
    "        res = 0\n",
    "        while m > 0:\n",
    "            res = res + (m%10)**2\n",
    "            m = m//10\n",
    "        print(res)\n",
    "        m = res\n",
    "        seen.add(res)\n",
    "    print(seen)"
   ]
  },
  {
   "cell_type": "code",
   "execution_count": 8,
   "metadata": {},
   "outputs": [
    {
     "name": "stdout",
     "output_type": "stream",
     "text": [
      "82\n",
      "68\n",
      "100\n",
      "1\n",
      "1\n",
      "1\n",
      "1\n",
      "1\n",
      "1\n",
      "1\n",
      "{100, 1, 82, 68}\n"
     ]
    }
   ],
   "source": [
    "isHappy(19)"
   ]
  },
  {
   "cell_type": "code",
   "execution_count": 9,
   "metadata": {},
   "outputs": [
    {
     "name": "stdout",
     "output_type": "stream",
     "text": [
      "4\n",
      "16\n",
      "37\n",
      "58\n",
      "89\n",
      "145\n",
      "42\n",
      "20\n",
      "4\n",
      "16\n",
      "{4, 37, 42, 16, 145, 20, 89, 58}\n"
     ]
    }
   ],
   "source": [
    "isHappy(2)"
   ]
  },
  {
   "cell_type": "code",
   "execution_count": null,
   "metadata": {},
   "outputs": [],
   "source": []
  }
 ],
 "metadata": {
  "interpreter": {
   "hash": "20df82c59a1dd71677f935d2bf9e1b513358c02e91b2a6663cbeb34b2cc86700"
  },
  "kernelspec": {
   "display_name": "Python 3.9.10 ('conda-forge')",
   "language": "python",
   "name": "python3"
  },
  "language_info": {
   "codemirror_mode": {
    "name": "ipython",
    "version": 3
   },
   "file_extension": ".py",
   "mimetype": "text/x-python",
   "name": "python",
   "nbconvert_exporter": "python",
   "pygments_lexer": "ipython3",
   "version": "3.9.10"
  },
  "orig_nbformat": 4
 },
 "nbformat": 4,
 "nbformat_minor": 2
}
