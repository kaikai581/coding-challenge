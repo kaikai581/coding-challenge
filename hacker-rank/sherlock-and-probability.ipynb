{
 "cells": [
  {
   "cell_type": "code",
   "execution_count": 2,
   "metadata": {},
   "outputs": [
    {
     "name": "stdout",
     "output_type": "stream",
     "text": [
      "55832701/100000000\n",
      "42306793/100000000\n",
      "4904989/10000000\n",
      "56655351/100000000\n",
      "55545577/100000000\n",
      "10210049/20000000\n",
      "6135661/100000000\n",
      "2183901/5000000\n",
      "9421/50000000\n",
      "219961/390625\n"
     ]
    }
   ],
   "source": [
    "from fractions import Fraction\n",
    "\n",
    "def solve(n, k, s):\n",
    "    # Write your code here\n",
    "    idx_1 = [i for i, x in enumerate(s) if x == '1']\n",
    "    valid_pairs = [(x, y) for x in idx_1 for y in idx_1 if abs(x-y) <= k]\n",
    "    ans = Fraction(len(valid_pairs), n**2)\n",
    "    return f'{ans.numerator}/{ans.denominator}'\n",
    "\n",
    "input_tests = []\n",
    "with open('input/sherlock-and-probability-4.txt', 'r') as f:\n",
    "    t = int(f.readline().strip())\n",
    "    for t_itr in range(t):\n",
    "        first_multiple_input = f.readline().rstrip().split()\n",
    "        n = int(first_multiple_input[0])\n",
    "        k = int(first_multiple_input[1])\n",
    "        s = f.readline().strip()\n",
    "        input_tests.append((n, k, s))\n",
    "\n",
    "for i in range(t):\n",
    "    print(solve(*input_tests[i]))\n"
   ]
  },
  {
   "cell_type": "markdown",
   "metadata": {},
   "source": [
    "Oh well, it seems my answers are correct!\n",
    "So the brute-force actually works.\n",
    "I guess it really times out. However, HackerRank reports wrong answers."
   ]
  },
  {
   "cell_type": "code",
   "execution_count": 11,
   "metadata": {},
   "outputs": [
    {
     "name": "stdout",
     "output_type": "stream",
     "text": [
      "55832701/100000000\n",
      "42306793/100000000\n",
      "4904989/10000000\n",
      "56655351/100000000\n",
      "55545577/100000000\n",
      "10210049/20000000\n",
      "6135661/100000000\n",
      "2183901/5000000\n",
      "9421/50000000\n",
      "219961/390625\n"
     ]
    }
   ],
   "source": [
    "'''\n",
    "The second thought.\n",
    "Think of the solution as a matrix with entries of either 1 or 0.\n",
    "Split the combinations into two group.\n",
    "1. The diagonal group. In this case, it's simply the length of the 1's index array.\n",
    "2. The off-diagonal group. Since the matrix is symmetric, I only have to consider j > i for all i and multiply the result by 2.\n",
    "   Besides, since the index array is already sorted, if j0-i > K for some j0, all other j's to the right are not solutions.\n",
    "'''\n",
    "\n",
    "def solve2(n, k, s):\n",
    "    # Write your code here\n",
    "    idx_1 = [i for i, x in enumerate(s) if x == '1']\n",
    "    n_pivot_pairs = []\n",
    "    for i in range(len(idx_1)):\n",
    "        n_pivot_pair = 0\n",
    "        for j in range(i+1, len(idx_1)):\n",
    "            if idx_1[j]-idx_1[i] > k: break\n",
    "            n_pivot_pair += 1\n",
    "        n_pivot_pairs.append(n_pivot_pair)\n",
    "    ans = Fraction(sum(2*k for k in n_pivot_pairs)+len(idx_1), n**2)\n",
    "    return f'{ans.numerator}/{ans.denominator}'\n",
    "\n",
    "for i in range(t):\n",
    "    print(solve2(*input_tests[i]))"
   ]
  },
  {
   "cell_type": "markdown",
   "metadata": {},
   "source": [
    "The second one obviously improves over the first one. However, it still exceeds the time requirement."
   ]
  },
  {
   "cell_type": "code",
   "execution_count": 22,
   "metadata": {},
   "outputs": [
    {
     "name": "stdout",
     "output_type": "stream",
     "text": [
      "49/50\n",
      "[9, 1]\n",
      "41/50\n"
     ]
    }
   ],
   "source": [
    "'''\n",
    "The third attempt.\n",
    "Split the string into sections, where the delimiter is a group of consecutive 0s where the number of 0s is larger than K.\n",
    "'''\n",
    "\n",
    "def solve3(n, k, s):\n",
    "    # Write your code here\n",
    "    idx_1 = [i for i, x in enumerate(s) if x == '1']\n",
    "    \n",
    "    n_1s_groups = []\n",
    "    i = 0\n",
    "    while i < len(idx_1):\n",
    "        n_1s = 0\n",
    "        j = i\n",
    "        while j < len(idx_1) and idx_1[j]-idx_1[i] <= k:\n",
    "            n_1s += 1\n",
    "            j += 1\n",
    "        n_1s_groups.append(n_1s)\n",
    "        i = j\n",
    "    print(n_1s_groups)\n",
    "    ans = Fraction(sum(k**2 for k in n_1s_groups), n**2)\n",
    "    return f'{ans.numerator}/{ans.denominator}'\n",
    "\n",
    "input_tests = []\n",
    "with open('input/sherlock-and-probability-0.txt', 'r') as f:\n",
    "    t = int(f.readline().strip())\n",
    "    for t_itr in range(t):\n",
    "        first_multiple_input = f.readline().rstrip().split()\n",
    "        n = int(first_multiple_input[0])\n",
    "        k = int(first_multiple_input[1])\n",
    "        s = f.readline().strip()\n",
    "        input_tests.append((n, k, s))\n",
    "\n",
    "# for i in range(t):\n",
    "#     print(solve3(*input_tests[i]))\n",
    "print(solve2(10, 8, '1111111111'))\n",
    "print(solve3(10, 8, '1111111111'))"
   ]
  },
  {
   "cell_type": "markdown",
   "metadata": {},
   "source": [
    "The above code gives wrong answers since if a group of 1s has a length longer than K the counting is wrong."
   ]
  },
  {
   "cell_type": "code",
   "execution_count": 9,
   "metadata": {},
   "outputs": [
    {
     "name": "stdout",
     "output_type": "stream",
     "text": [
      "9/16\n",
      "5/16\n",
      "49/50\n",
      "55832701/100000000\n",
      "42306793/100000000\n",
      "4904989/10000000\n",
      "56655351/100000000\n",
      "55545577/100000000\n",
      "10210049/20000000\n",
      "6135661/100000000\n",
      "2183901/5000000\n",
      "9421/50000000\n",
      "219961/390625\n"
     ]
    }
   ],
   "source": [
    "'''\n",
    "The fourth attempt.\n",
    "Use a sliding window from i to i+K. Initialize the counter to the number of combinations within the window.\n",
    "Then start sliding the window, one position at a time. If the new, rightmost element entering the window is 1, \n",
    "increment the counter by 2*(remaining # 1s in the window excluding the rightmost element) + 1 (self repeting).\n",
    "Update the number of 1s due to window sliding.\n",
    "'''\n",
    "\n",
    "def solve4(n, k, s):\n",
    "    # Write your code here\n",
    "    n_1s = len([x for x in s[:k] if x == '1'])\n",
    "    n_comb = n_1s**2\n",
    "    for i in range(k, len(s)):\n",
    "        if s[i] == '1':\n",
    "            n_comb += n_1s*2+1\n",
    "            n_1s += 1\n",
    "        if s[i-k] == '1':\n",
    "            n_1s -= 1\n",
    "    ans = Fraction(n_comb, n**2)\n",
    "    return f'{ans.numerator}/{ans.denominator}'\n",
    "\n",
    "print(solve4(4, 3, '1011'))\n",
    "print(solve4(4, 1, '1011'))\n",
    "print(solve4(10, 8, '1111111111'))\n",
    "for i in range(t):\n",
    "    print(solve4(*input_tests[i]))"
   ]
  },
  {
   "cell_type": "markdown",
   "metadata": {},
   "source": [
    "The above linear time algorithm solves the problem perfectly!"
   ]
  },
  {
   "cell_type": "markdown",
   "metadata": {},
   "source": []
  }
 ],
 "metadata": {
  "interpreter": {
   "hash": "e65c2f1129b3528d4319af981950935204fdf881796a7001421b66dbe40e3d94"
  },
  "kernelspec": {
   "display_name": "Python 3.9.10 ('root-dev')",
   "language": "python",
   "name": "python3"
  },
  "language_info": {
   "codemirror_mode": {
    "name": "ipython",
    "version": 3
   },
   "file_extension": ".py",
   "mimetype": "text/x-python",
   "name": "python",
   "nbconvert_exporter": "python",
   "pygments_lexer": "ipython3",
   "version": "3.9.10"
  },
  "orig_nbformat": 4
 },
 "nbformat": 4,
 "nbformat_minor": 2
}
