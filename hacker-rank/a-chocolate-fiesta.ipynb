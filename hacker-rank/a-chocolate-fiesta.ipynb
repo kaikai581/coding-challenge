{
 "cells": [
  {
   "cell_type": "code",
   "execution_count": 3,
   "metadata": {},
   "outputs": [
    {
     "name": "stdout",
     "output_type": "stream",
     "text": [
      "7\n",
      "3\n"
     ]
    }
   ],
   "source": [
    "'''\n",
    "Here is the idea:\n",
    "Separate the set into two subsets.\n",
    "One contains only even numbers, and the other contains only odd numbers.\n",
    "Select an even number of odd numbers, and any numbers of even numbers.\n",
    "'''\n",
    "\n",
    "def solve(a):\n",
    "    odd = [x for x in a if x%2 != 0]\n",
    "    even = [x for x in a if x%2 == 0]\n",
    "    if len(odd) == 0:\n",
    "        # If I cannot select anything from the odd set, the solution is the power set of the even set.\n",
    "        # Don't forget to exclude the empty set.\n",
    "        return pow(2, len(even))-1\n",
    "    # If we can select anything from the odd set, then the total number of ways to select\n",
    "    # an even number of elements from the odd set is 2^(N-1), where N is the cardinality of the odd set.\n",
    "    return pow(2, len(even))*pow(2, len(odd)-1)-1\n",
    "\n",
    "print(solve([2, 4, 6, 1]))\n",
    "print(solve([1, 2, 2]))"
   ]
  },
  {
   "cell_type": "code",
   "execution_count": null,
   "metadata": {},
   "outputs": [],
   "source": []
  }
 ],
 "metadata": {
  "interpreter": {
   "hash": "20df82c59a1dd71677f935d2bf9e1b513358c02e91b2a6663cbeb34b2cc86700"
  },
  "kernelspec": {
   "display_name": "Python 3.9.10 64-bit ('conda-forge': conda)",
   "language": "python",
   "name": "python3"
  },
  "language_info": {
   "codemirror_mode": {
    "name": "ipython",
    "version": 3
   },
   "file_extension": ".py",
   "mimetype": "text/x-python",
   "name": "python",
   "nbconvert_exporter": "python",
   "pygments_lexer": "ipython3",
   "version": "3.9.10"
  },
  "orig_nbformat": 4
 },
 "nbformat": 4,
 "nbformat_minor": 2
}
