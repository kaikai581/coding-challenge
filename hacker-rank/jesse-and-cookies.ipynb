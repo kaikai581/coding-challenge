{
 "cells": [
  {
   "cell_type": "code",
   "execution_count": 6,
   "metadata": {},
   "outputs": [
    {
     "name": "stdout",
     "output_type": "stream",
     "text": [
      "[4, 6, 6, 7, 8]\n",
      "[6, 7, 8, 16]\n",
      "[8, 16, 20]\n",
      "[20, 40]\n",
      "4\n",
      "[3, 5, 9, 10, 12]\n",
      "[9, 10, 12, 13]\n",
      "2\n"
     ]
    }
   ],
   "source": [
    "import bisect\n",
    "\n",
    "def cookies(k, A):\n",
    "    A.sort()\n",
    "    niter = 0\n",
    "    while len(A) >= 2:\n",
    "        least1, least2 = A[0], A[1]\n",
    "        A = A[2:]\n",
    "        bisect.insort(A, least1+2*least2)\n",
    "        niter += 1\n",
    "        print(A)\n",
    "        if A[0] >= k: break\n",
    "    if A[0] < k: return -1\n",
    "    return niter\n",
    "\n",
    "print(cookies(9, [2, 7, 3, 6, 4, 6]))\n",
    "print(cookies(7, [1, 2, 3, 9, 10, 12]))\n",
    "\n",
    "'''\n",
    "Well, this implementation exceeds the time limit since insertion sort has to move all elements to the right of the insertion location, which takes O(n).\n",
    "'''"
   ]
  },
  {
   "cell_type": "code",
   "execution_count": 9,
   "metadata": {},
   "outputs": [
    {
     "name": "stdout",
     "output_type": "stream",
     "text": [
      "4\n",
      "2\n"
     ]
    }
   ],
   "source": [
    "import heapq\n",
    "\n",
    "def cookies(k, A):\n",
    "    heapq.heapify(A)\n",
    "    niter = 0\n",
    "    while len(A) >= 2:\n",
    "        if A[0] >= k: break\n",
    "        least1, least2 = heapq.heappop(A), heapq.heappop(A)\n",
    "        heapq.heappush(A, least1+2*least2)\n",
    "        niter += 1\n",
    "    if A[0] < k: return -1\n",
    "    return niter\n",
    "\n",
    "print(cookies(9, [2, 7, 3, 6, 4, 6]))\n",
    "print(cookies(7, [1, 2, 3, 9, 10, 12]))"
   ]
  },
  {
   "cell_type": "code",
   "execution_count": null,
   "metadata": {},
   "outputs": [],
   "source": []
  }
 ],
 "metadata": {
  "interpreter": {
   "hash": "464cb4416c1bbb1013f12739a10e028ffee1bbadc4388d1a4e097aa1340e7516"
  },
  "kernelspec": {
   "display_name": "Python 3.9.7 64-bit ('conda-forge': conda)",
   "language": "python",
   "name": "python3"
  },
  "language_info": {
   "codemirror_mode": {
    "name": "ipython",
    "version": 3
   },
   "file_extension": ".py",
   "mimetype": "text/x-python",
   "name": "python",
   "nbconvert_exporter": "python",
   "pygments_lexer": "ipython3",
   "version": "3.9.10"
  },
  "orig_nbformat": 4
 },
 "nbformat": 4,
 "nbformat_minor": 2
}
