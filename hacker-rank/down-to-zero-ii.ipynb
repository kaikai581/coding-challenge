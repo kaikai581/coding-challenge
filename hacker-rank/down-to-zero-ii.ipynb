{
 "cells": [
  {
   "cell_type": "code",
   "execution_count": 15,
   "metadata": {},
   "outputs": [
    {
     "name": "stdout",
     "output_type": "stream",
     "text": [
      "{0: 0, 1: 1, 2: 2, 3: 3}\n"
     ]
    }
   ],
   "source": [
    "'''\n",
    "By referring to videos on YouTube, this problem is solved with dynamic programming.\n",
    "'''\n",
    "\n",
    "# construct the lookup table\n",
    "# Initialize the lookup table up to 3. By observation up to 3 the answer is equal to N.\n",
    "opt_table = {i: i for i in range(4)}\n",
    "\n",
    "# To avoid constructing the full table every time, make the table construction a function\n",
    "# loop through all numbers up to the maximum value of N.\n",
    "def construct_table(n):\n",
    "    current_n = len(opt_table)-1\n",
    "    if n > current_n:\n",
    "        for i in range(current_n+1, n+1):\n",
    "            opt_table[i] = opt_table[i-1]+1\n",
    "            for j in range(2, i):\n",
    "                if j*j > i: break\n",
    "                if i%j == 0:\n",
    "                    opt_table[i] = min(opt_table[i], opt_table[i//j]+1)\n",
    "# nmax = 11\n",
    "# for i in range(4, nmax):\n",
    "#     # By default, use rule 2\n",
    "#     opt_table.append(opt_table[i-1]+1)\n",
    "#     # deal with rule 1\n",
    "#     for j in range(2, i):\n",
    "#         if j*j > i: break\n",
    "#         if i%j == 0:\n",
    "#             opt_table[i] = min(opt_table[i], opt_table[i//j]+1)\n",
    "print(opt_table)"
   ]
  },
  {
   "cell_type": "code",
   "execution_count": 16,
   "metadata": {},
   "outputs": [
    {
     "name": "stdout",
     "output_type": "stream",
     "text": [
      "dict_values([0, 1, 2, 3, 3, 4, 4, 5, 4, 4, 5, 6, 4, 5, 6, 5, 4, 5, 5, 6, 5, 6, 7, 8, 5, 5, 6, 5, 6, 7, 5, 6, 5, 6, 6, 6, 5, 6, 7, 6, 5, 6, 6, 7, 7, 5, 6, 7, 5, 6, 6, 6, 6, 7, 5, 6, 5, 6, 7, 8, 5])\n"
     ]
    },
    {
     "data": {
      "text/plain": [
       "'\\nThis implementation gives the right answer, but still too slow!\\n'"
      ]
     },
     "execution_count": 16,
     "metadata": {},
     "output_type": "execute_result"
    }
   ],
   "source": [
    "# [0, 1, 2, 3, 3, 4, 4, 5, 4, 4, 5]\n",
    "construct_table(6)\n",
    "construct_table(60)\n",
    "print(opt_table.values())\n",
    "\n",
    "'''\n",
    "This implementation gives the right answer, but still too slow!\n",
    "'''"
   ]
  },
  {
   "cell_type": "code",
   "execution_count": 31,
   "metadata": {},
   "outputs": [
    {
     "name": "stdout",
     "output_type": "stream",
     "text": [
      "11\n",
      "9\n",
      "0 0 0\n",
      "1 1 1\n",
      "2 2 2\n",
      "3 3 3\n",
      "6 4 4\n",
      "7 5 5\n",
      "14 6 6\n",
      "28 6 6\n",
      "29 7 7\n",
      "58 8 7\n",
      "59 9 8\n"
     ]
    }
   ],
   "source": [
    "'''\n",
    "Try the recursive implementation.\n",
    "The advantage is that only the used entries in the lookup table are computed.\n",
    "\n",
    "WRONG ANSWER! Problem is that decomposing a composite number (greedy algorithms) does not always lead to the optimal solution.\n",
    "'''\n",
    "\n",
    "table2 = {i: i for i in range(4)}\n",
    "\n",
    "def recursive_construct(n):\n",
    "    if n in table2: return\n",
    "\n",
    "    # initialize to self, which is the maximum number possible\n",
    "    table2[n] = n\n",
    "\n",
    "    # check rule 1 for an optimized solution\n",
    "    # if n is a composite number, skip rule 1\n",
    "    is_composite = False\n",
    "    for j in range(2, n):\n",
    "        if j*j > n: break\n",
    "        if n%j == 0:\n",
    "            is_composite = True\n",
    "            factor = n//j\n",
    "            if not factor in table2: recursive_construct(factor)\n",
    "            table2[n] = min(table2[n], table2[factor]+1)\n",
    "    \n",
    "    # execute rule 2 if n is a prime\n",
    "    if not is_composite:\n",
    "        if not n-1 in table2: recursive_construct(n-1)\n",
    "        table2[n] = table2[n-1]+1\n",
    "\n",
    "x = 59\n",
    "recursive_construct(x)\n",
    "print(len(table2))\n",
    "print(table2[x])\n",
    "for i in range(61):\n",
    "    if i in table2:\n",
    "        print(i, table2[i], opt_table[i])"
   ]
  },
  {
   "cell_type": "code",
   "execution_count": null,
   "metadata": {},
   "outputs": [],
   "source": []
  }
 ],
 "metadata": {
  "interpreter": {
   "hash": "20df82c59a1dd71677f935d2bf9e1b513358c02e91b2a6663cbeb34b2cc86700"
  },
  "kernelspec": {
   "display_name": "Python 3.9.10 64-bit ('conda-forge': conda)",
   "language": "python",
   "name": "python3"
  },
  "language_info": {
   "codemirror_mode": {
    "name": "ipython",
    "version": 3
   },
   "file_extension": ".py",
   "mimetype": "text/x-python",
   "name": "python",
   "nbconvert_exporter": "python",
   "pygments_lexer": "ipython3",
   "version": "3.9.10"
  },
  "orig_nbformat": 4
 },
 "nbformat": 4,
 "nbformat_minor": 2
}
