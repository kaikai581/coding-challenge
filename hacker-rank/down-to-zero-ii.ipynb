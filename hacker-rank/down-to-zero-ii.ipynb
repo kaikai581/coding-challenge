{
 "cells": [
  {
   "cell_type": "code",
   "execution_count": 16,
   "metadata": {},
   "outputs": [
    {
     "name": "stdout",
     "output_type": "stream",
     "text": [
      "{0: 0, 1: 1, 2: 2, 3: 3}\n"
     ]
    }
   ],
   "source": [
    "'''\n",
    "By referring to videos on YouTube, this problem is solved with dynamic programming.\n",
    "'''\n",
    "\n",
    "# construct the lookup table\n",
    "# Initialize the lookup table up to 3. By observation up to 3 the answer is equal to N.\n",
    "opt_table = {i: i for i in range(4)}\n",
    "\n",
    "# To avoid constructing the full table every time, make the table construction a function\n",
    "# loop through all numbers up to the maximum value of N.\n",
    "def construct_table(n):\n",
    "    current_n = len(opt_table)-1\n",
    "    if n > current_n:\n",
    "        for i in range(current_n+1, n+1):\n",
    "            opt_table[i] = opt_table[i-1]+1\n",
    "            for j in range(2, i):\n",
    "                if j*j > i: break\n",
    "                if i%j == 0:\n",
    "                    opt_table[i] = min(opt_table[i], opt_table[i//j]+1)\n",
    "# nmax = 11\n",
    "# for i in range(4, nmax):\n",
    "#     # By default, use rule 2\n",
    "#     opt_table.append(opt_table[i-1]+1)\n",
    "#     # deal with rule 1\n",
    "#     for j in range(2, i):\n",
    "#         if j*j > i: break\n",
    "#         if i%j == 0:\n",
    "#             opt_table[i] = min(opt_table[i], opt_table[i//j]+1)\n",
    "print(opt_table)"
   ]
  },
  {
   "cell_type": "code",
   "execution_count": 19,
   "metadata": {},
   "outputs": [
    {
     "name": "stdout",
     "output_type": "stream",
     "text": [
      "dict_values([0, 1, 2, 3, 3, 4, 4, 5, 4, 4, 5])\n"
     ]
    }
   ],
   "source": [
    "# [0, 1, 2, 3, 3, 4, 4, 5, 4, 4, 5]\n",
    "construct_table(6)\n",
    "construct_table(10)\n",
    "print(opt_table.values())\n",
    "\n",
    "'''\n",
    "This implementation gives the right answer, but still too slow!\n",
    "'''"
   ]
  },
  {
   "cell_type": "code",
   "execution_count": null,
   "metadata": {},
   "outputs": [],
   "source": []
  }
 ],
 "metadata": {
  "interpreter": {
   "hash": "20df82c59a1dd71677f935d2bf9e1b513358c02e91b2a6663cbeb34b2cc86700"
  },
  "kernelspec": {
   "display_name": "Python 3.9.10 64-bit ('conda-forge': conda)",
   "language": "python",
   "name": "python3"
  },
  "language_info": {
   "codemirror_mode": {
    "name": "ipython",
    "version": 3
   },
   "file_extension": ".py",
   "mimetype": "text/x-python",
   "name": "python",
   "nbconvert_exporter": "python",
   "pygments_lexer": "ipython3",
   "version": "3.9.10"
  },
  "orig_nbformat": 4
 },
 "nbformat": 4,
 "nbformat_minor": 2
}
