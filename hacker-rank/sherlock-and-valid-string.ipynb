{
 "cells": [
  {
   "cell_type": "code",
   "execution_count": 19,
   "metadata": {},
   "outputs": [
    {
     "name": "stdout",
     "output_type": "stream",
     "text": [
      "Counter({1: 3})\n",
      "YES\n",
      "Counter({1: 2, 2: 1})\n",
      "YES\n",
      "Counter({1: 2, 3: 1})\n",
      "NO\n",
      "Counter({2: 2, 1: 2})\n",
      "NO\n",
      "Counter({2: 5, 1: 4})\n",
      "NO\n",
      "Counter({2: 7, 3: 1})\n",
      "YES\n"
     ]
    }
   ],
   "source": [
    "from collections import Counter\n",
    "\n",
    "def isValid(s):\n",
    "    ch_freq = Counter(s)\n",
    "    freq_hist = Counter(ch_freq.values())\n",
    "    print(freq_hist)\n",
    "    if len(freq_hist) == 1: return 'YES'\n",
    "    if len(freq_hist) >= 3: return 'NO'\n",
    "    M, m = max(freq_hist.keys()), min(freq_hist.keys())\n",
    "    # edge case: if the smaller number is 1, it is valid\n",
    "    if m == 1 and freq_hist[m] == 1: return 'YES'\n",
    "    if M-m != 1: return 'NO'\n",
    "    if freq_hist[M] != 1: return 'NO'\n",
    "    return 'YES'\n",
    "\n",
    "print(isValid('abc'))\n",
    "print(isValid('abcc'))\n",
    "print(isValid('abccc'))\n",
    "print(isValid('aabbcd'))\n",
    "print(isValid('aabbccddeefghi'))\n",
    "print(isValid('abcdefghhgfedecba'))"
   ]
  },
  {
   "cell_type": "code",
   "execution_count": 20,
   "metadata": {},
   "outputs": [
    {
     "name": "stdout",
     "output_type": "stream",
     "text": [
      "Counter({2: 2, 1: 1})\n",
      "YES\n"
     ]
    }
   ],
   "source": [
    "print(isValid('aabbc'))"
   ]
  },
  {
   "cell_type": "code",
   "execution_count": null,
   "metadata": {},
   "outputs": [],
   "source": [
    "'''\n",
    "Finally! One has to consider so many different conditions for this problem!\n",
    "And, my logic is basically identical to TDI's reference solution.\n",
    "'''"
   ]
  }
 ],
 "metadata": {
  "interpreter": {
   "hash": "464cb4416c1bbb1013f12739a10e028ffee1bbadc4388d1a4e097aa1340e7516"
  },
  "kernelspec": {
   "display_name": "Python 3.9.10 ('conda-forge')",
   "language": "python",
   "name": "python3"
  },
  "language_info": {
   "codemirror_mode": {
    "name": "ipython",
    "version": 3
   },
   "file_extension": ".py",
   "mimetype": "text/x-python",
   "name": "python",
   "nbconvert_exporter": "python",
   "pygments_lexer": "ipython3",
   "version": "3.9.10"
  },
  "orig_nbformat": 4
 },
 "nbformat": 4,
 "nbformat_minor": 2
}
