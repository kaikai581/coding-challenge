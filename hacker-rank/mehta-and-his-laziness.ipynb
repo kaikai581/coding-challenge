{
 "cells": [
  {
   "cell_type": "code",
   "execution_count": 5,
   "metadata": {},
   "outputs": [
    {
     "name": "stdout",
     "output_type": "stream",
     "text": [
      "[1, 2, 3, 4, 5, 6, 9, 10, 12, 15, 18, 20, 25, 30, 36, 45, 50, 60, 75, 90, 100, 150, 180, 225, 300, 450]\n"
     ]
    }
   ],
   "source": [
    "import math\n",
    "\n",
    "def get_prop_divs(n):\n",
    "    # find all proper divisors\n",
    "    divs = [1]\n",
    "    for j in range(2, n):\n",
    "        if j*j > n: break\n",
    "        if n%j == 0:\n",
    "            divs.append(j)\n",
    "            if n//j != j:\n",
    "                divs.append(n//j)\n",
    "    return sorted(divs)\n",
    "\n",
    "print(get_prop_divs(900))"
   ]
  },
  {
   "cell_type": "code",
   "execution_count": 7,
   "metadata": {},
   "outputs": [
    {
     "name": "stdout",
     "output_type": "stream",
     "text": [
      "[4, 36, 100]\n"
     ]
    }
   ],
   "source": [
    "def is_even_perf_sqr(n):\n",
    "    if n%2 != 0: return False\n",
    "    j = int(math.sqrt(n))\n",
    "    if j*j == n: return True\n",
    "    return False\n",
    "\n",
    "print(list(x for x in get_prop_divs(900) if is_even_perf_sqr(x)))"
   ]
  },
  {
   "cell_type": "code",
   "execution_count": null,
   "metadata": {},
   "outputs": [],
   "source": []
  }
 ],
 "metadata": {
  "interpreter": {
   "hash": "e7370f93d1d0cde622a1f8e1c04877d8463912d04d973331ad4851f04de6915a"
  },
  "kernelspec": {
   "display_name": "Python 3.10.1 64-bit",
   "language": "python",
   "name": "python3"
  },
  "language_info": {
   "codemirror_mode": {
    "name": "ipython",
    "version": 3
   },
   "file_extension": ".py",
   "mimetype": "text/x-python",
   "name": "python",
   "nbconvert_exporter": "python",
   "pygments_lexer": "ipython3",
   "version": "3.9.10"
  },
  "orig_nbformat": 4
 },
 "nbformat": 4,
 "nbformat_minor": 2
}
