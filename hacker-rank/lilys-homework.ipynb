{
 "cells": [
  {
   "cell_type": "code",
   "execution_count": 1,
   "metadata": {},
   "outputs": [],
   "source": [
    "import heapq\n",
    "\n",
    "def lilysHomework(arr):\n",
    "    '''\n",
    "    My first idea is to follow what I did in largest-permutation.\n",
    "    '''\n",
    "    # create the index dictionary\n",
    "    ind_dict = {a:i for i, a in enumerate(arr)}\n",
    "    # create the min heap\n",
    "    min_heap = arr.copy()\n",
    "    heapq.heapify(min_heap)\n",
    "    k = 0\n",
    "    for i in range(len(arr)):\n",
    "        min_num = heapq.heappop(min_heap)\n",
    "        min_idx = ind_dict[min_num]\n",
    "        if min_idx != i:\n",
    "            ind_dict[arr[i]] = min_idx\n",
    "            arr[i], arr[min_idx] = arr[min_idx], arr[i]\n",
    "            k += 1\n",
    "    return k"
   ]
  },
  {
   "cell_type": "code",
   "execution_count": 5,
   "metadata": {},
   "outputs": [
    {
     "name": "stdout",
     "output_type": "stream",
     "text": [
      "2\n",
      "2\n",
      "4\n"
     ]
    }
   ],
   "source": [
    "print(lilysHomework([7, 15, 12, 3]))\n",
    "print(lilysHomework([2, 5, 3, 1]))\n",
    "print(lilysHomework([3, 4, 2, 5, 1]))"
   ]
  },
  {
   "cell_type": "markdown",
   "metadata": {},
   "source": [
    "Oops. This first try does not work out.  \n",
    "I also have to check the number of swaps if the array is in decreasing order!"
   ]
  },
  {
   "cell_type": "code",
   "execution_count": 7,
   "metadata": {},
   "outputs": [],
   "source": [
    "def count_swaps(arr):\n",
    "    # create the index dictionary\n",
    "    ind_dict = {a:i for i, a in enumerate(arr)}\n",
    "    # create the min heap\n",
    "    min_heap = arr.copy()\n",
    "    heapq.heapify(min_heap)\n",
    "    k = 0\n",
    "    for i in range(len(arr)):\n",
    "        min_num = heapq.heappop(min_heap)\n",
    "        min_idx = ind_dict[min_num]\n",
    "        if min_idx != i:\n",
    "            ind_dict[arr[i]] = min_idx\n",
    "            arr[i], arr[min_idx] = arr[min_idx], arr[i]\n",
    "            k += 1\n",
    "    return k\n",
    "\n",
    "def lilysHomework2(arr):\n",
    "    '''\n",
    "    Second try: maintain a decreasing list as well\n",
    "    '''\n",
    "    return min(count_swaps(arr.copy()), count_swaps(arr[::-1].copy()))"
   ]
  },
  {
   "cell_type": "code",
   "execution_count": 8,
   "metadata": {},
   "outputs": [
    {
     "name": "stdout",
     "output_type": "stream",
     "text": [
      "2\n",
      "2\n",
      "2\n"
     ]
    }
   ],
   "source": [
    "print(lilysHomework2([7, 15, 12, 3]))\n",
    "print(lilysHomework2([2, 5, 3, 1]))\n",
    "print(lilysHomework2([3, 4, 2, 5, 1]))"
   ]
  }
 ],
 "metadata": {
  "interpreter": {
   "hash": "464cb4416c1bbb1013f12739a10e028ffee1bbadc4388d1a4e097aa1340e7516"
  },
  "kernelspec": {
   "display_name": "Python 3.9.10 ('conda-forge')",
   "language": "python",
   "name": "python3"
  },
  "language_info": {
   "codemirror_mode": {
    "name": "ipython",
    "version": 3
   },
   "file_extension": ".py",
   "mimetype": "text/x-python",
   "name": "python",
   "nbconvert_exporter": "python",
   "pygments_lexer": "ipython3",
   "version": "3.9.10"
  },
  "orig_nbformat": 4
 },
 "nbformat": 4,
 "nbformat_minor": 2
}
