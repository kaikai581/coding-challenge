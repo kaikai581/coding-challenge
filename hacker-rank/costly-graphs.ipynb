{
 "cells": [
  {
   "cell_type": "code",
   "execution_count": 1,
   "metadata": {},
   "outputs": [
    {
     "name": "stdout",
     "output_type": "stream",
     "text": [
      "[(0, 1), (0, 2), (1, 2)]\n",
      "[((0, 1), (0, 2)), ((0, 1), (1, 2)), ((0, 2), (1, 2))]\n",
      "36\n"
     ]
    }
   ],
   "source": [
    "'''\n",
    "A test cell to understand the behavior of itertools.combinations.\n",
    "'''\n",
    "\n",
    "from collections import defaultdict\n",
    "from itertools import combinations\n",
    "\n",
    "def graph_cost(ndeg, K):\n",
    "    res = 0\n",
    "    for _, v in ndeg.items():\n",
    "        res += pow(v, K)\n",
    "    return res\n",
    "\n",
    "# Get all possible single edges\n",
    "G = list(range(3))\n",
    "E_single = list(combinations(G, 2))\n",
    "print(list(E_single))\n",
    "\n",
    "# With all the possible single edges, loop through the number of single edges and\n",
    "# find all combinations of edges for a given number of edges.\n",
    "E_num = combinations(E_single, 2)\n",
    "print(list(E_num))\n",
    "\n",
    "costs = []\n",
    "for i in range(1, len(E_single)+1):\n",
    "    E_num = combinations(E_single, i)\n",
    "    for E in E_num:\n",
    "        node_degree = defaultdict(int)\n",
    "        for p in E:\n",
    "            node_degree[p[0]] += 1\n",
    "            node_degree[p[1]] += 1\n",
    "        # print(E)\n",
    "        # print(graph_cost(node_degree, 2))\n",
    "        costs.append(graph_cost(node_degree, 2))\n",
    "print(sum(costs))\n"
   ]
  },
  {
   "cell_type": "code",
   "execution_count": 43,
   "metadata": {},
   "outputs": [
    {
     "name": "stdout",
     "output_type": "stream",
     "text": [
      "2 2\n"
     ]
    }
   ],
   "source": [
    "import sys\n",
    "\n",
    "input()\n",
    "while True:\n",
    "    s = input()\n",
    "    if s != '':\n",
    "        N, K = map(int, s.split())\n",
    "        print(N, K)\n",
    "    else:\n",
    "        break"
   ]
  },
  {
   "cell_type": "markdown",
   "metadata": {},
   "source": [
    "Well, this code gets the answer correctly up to N=3. For larger N, the result is heavily underestimated."
   ]
  }
 ],
 "metadata": {
  "interpreter": {
   "hash": "20df82c59a1dd71677f935d2bf9e1b513358c02e91b2a6663cbeb34b2cc86700"
  },
  "kernelspec": {
   "display_name": "Python 3.9.10 64-bit ('conda-forge': conda)",
   "language": "python",
   "name": "python3"
  },
  "language_info": {
   "codemirror_mode": {
    "name": "ipython",
    "version": 3
   },
   "file_extension": ".py",
   "mimetype": "text/x-python",
   "name": "python",
   "nbconvert_exporter": "python",
   "pygments_lexer": "ipython3",
   "version": "3.9.10"
  },
  "orig_nbformat": 4
 },
 "nbformat": 4,
 "nbformat_minor": 2
}
