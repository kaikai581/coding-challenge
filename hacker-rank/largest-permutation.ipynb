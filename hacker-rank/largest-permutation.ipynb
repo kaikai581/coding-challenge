{
 "cells": [
  {
   "cell_type": "code",
   "execution_count": 22,
   "metadata": {},
   "outputs": [],
   "source": [
    "import heapq\n",
    "\n",
    "def largestPermutation(k, arr):\n",
    "    '''\n",
    "    It seems that k can be larger than the length of arr.\n",
    "    It takes n-1 swaps to get to the largest permutation.\n",
    "    '''\n",
    "    k = min(k, len(arr))\n",
    "    # make an index lookup table\n",
    "    ind_dict = {v: i for i, v in enumerate(arr)}\n",
    "    # create a max heap\n",
    "    max_heap = arr.copy()\n",
    "    heapq._heapify_max(max_heap)\n",
    "    for i in range(k):\n",
    "        max_num = heapq._heappop_max(max_heap)\n",
    "        max_idx = ind_dict[max_num]\n",
    "        ind_dict[arr[i]] = max_idx\n",
    "        arr[max_idx], arr[i] = arr[i], arr[max_idx]\n",
    "    return arr\n"
   ]
  },
  {
   "cell_type": "code",
   "execution_count": 23,
   "metadata": {},
   "outputs": [
    {
     "name": "stdout",
     "output_type": "stream",
     "text": [
      "[5, 2, 3, 4, 1]\n",
      "[3, 1, 2]\n",
      "[2, 1]\n",
      "[5, 2, 5, 5, 5]\n"
     ]
    }
   ],
   "source": [
    "print(largestPermutation(1, [4, 2, 3, 5, 1]))\n",
    "print(largestPermutation(1, [2, 1, 3]))\n",
    "print(largestPermutation(1, [2, 1]))\n",
    "print(largestPermutation(1, [5, 2, 5, 5, 5])) # this input does not occur since the array is a permutation from 1 to n."
   ]
  },
  {
   "cell_type": "markdown",
   "metadata": {},
   "source": [
    "The first implementation has an issue.\n",
    "When the max element is already in position, no swap should happen and no moves should be wasted."
   ]
  },
  {
   "cell_type": "code",
   "execution_count": 24,
   "metadata": {},
   "outputs": [],
   "source": [
    "def largestPermutation2(k, arr):\n",
    "    # make an index lookup table\n",
    "    ind_dict = {v: i for i, v in enumerate(arr)}\n",
    "    # create a max heap\n",
    "    max_heap = arr.copy()\n",
    "    heapq._heapify_max(max_heap)\n",
    "    for i in range(len(arr)):\n",
    "        max_num = heapq._heappop_max(max_heap)\n",
    "        max_idx = ind_dict[max_num]\n",
    "        if max_idx != i:\n",
    "            ind_dict[arr[i]] = max_idx\n",
    "            arr[max_idx], arr[i] = arr[i], arr[max_idx]\n",
    "            k -= 1\n",
    "            if k == 0: break\n",
    "    return arr"
   ]
  },
  {
   "cell_type": "code",
   "execution_count": 25,
   "metadata": {},
   "outputs": [
    {
     "name": "stdout",
     "output_type": "stream",
     "text": [
      "[5, 2, 3, 4, 1]\n",
      "[3, 1, 2]\n",
      "[2, 1]\n"
     ]
    }
   ],
   "source": [
    "print(largestPermutation2(1, [4, 2, 3, 5, 1]))\n",
    "print(largestPermutation2(1, [2, 1, 3]))\n",
    "print(largestPermutation2(1, [2, 1]))"
   ]
  },
  {
   "cell_type": "markdown",
   "metadata": {},
   "source": [
    "Great. The second implementation passes!\n",
    "However, the reference solution is much more beautiful in the sense that "
   ]
  }
 ],
 "metadata": {
  "interpreter": {
   "hash": "464cb4416c1bbb1013f12739a10e028ffee1bbadc4388d1a4e097aa1340e7516"
  },
  "kernelspec": {
   "display_name": "Python 3.9.10 ('conda-forge')",
   "language": "python",
   "name": "python3"
  },
  "language_info": {
   "codemirror_mode": {
    "name": "ipython",
    "version": 3
   },
   "file_extension": ".py",
   "mimetype": "text/x-python",
   "name": "python",
   "nbconvert_exporter": "python",
   "pygments_lexer": "ipython3",
   "version": "3.9.10"
  },
  "orig_nbformat": 4
 },
 "nbformat": 4,
 "nbformat_minor": 2
}
