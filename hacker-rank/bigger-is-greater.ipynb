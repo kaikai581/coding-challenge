{
 "cells": [
  {
   "cell_type": "code",
   "execution_count": 12,
   "metadata": {},
   "outputs": [
    {
     "name": "stdout",
     "output_type": "stream",
     "text": [
      "abdc\n",
      "ba\n",
      "no answer\n",
      "hegf\n",
      "dhkc\n",
      "hkdc\n"
     ]
    }
   ],
   "source": [
    "'''\n",
    "The first idea is to scan from right to left. If a character is the smallest, there is no hope with it. Remove it and move on the the next characters on its left. Otherwise, find the first character to the left of it and swap the two.\n",
    "'''\n",
    "\n",
    "import heapq\n",
    "\n",
    "def biggerIsGreater0(w):\n",
    "    if len(w) <= 1: return 'no answer'\n",
    "    min_heap = list(w)\n",
    "    heapq.heapify(min_heap)\n",
    "    \n",
    "    for i in range(len(min_heap)-1, -1, -1):\n",
    "        if w[i] == min_heap[0]:\n",
    "            heapq.heappop(min_heap)\n",
    "            continue\n",
    "        for j in range(i-1, -1, -1):\n",
    "            if w[j] < w[i]:\n",
    "                res = list(w)\n",
    "                res[i], res[j] = res[j], res[i]\n",
    "                return ''.join(res)\n",
    "    return 'no answer'\n",
    "\n",
    "\n",
    "print(biggerIsGreater0('abcd'))\n",
    "print(biggerIsGreater0('ab'))\n",
    "print(biggerIsGreater0('bb'))\n",
    "print(biggerIsGreater0('hefg'))\n",
    "print(biggerIsGreater0('dhck'))\n",
    "print(biggerIsGreater0('dkhc'))"
   ]
  },
  {
   "cell_type": "code",
   "execution_count": 25,
   "metadata": {},
   "outputs": [
    {
     "name": "stdout",
     "output_type": "stream",
     "text": [
      "abdc\n",
      "ba\n",
      "no answer\n",
      "hegf\n",
      "dhkc\n",
      "hcdk\n"
     ]
    }
   ],
   "source": [
    "'''\n",
    "The second attempt.\n",
    "Check the right most k characters. If they are in max order, check the right most k+1 characters until a non-maximal configuration is found.\n",
    "Next, replace the left most character with the character immediately larger than it, and sort the remaining characters in ascending order.\n",
    "'''\n",
    "\n",
    "def biggerIsGreater(w):\n",
    "    if len(w) <= 1: return 'no answer'\n",
    "    \n",
    "    w = list(w)\n",
    "    for i in range(len(w)-1, -1, -1):\n",
    "        for j in range(i-1, -1, -1):\n",
    "            sorted_substr = sorted(w[j:i+1], reverse=True)\n",
    "            idx = sorted_substr.index(w[j])\n",
    "            if idx != 0:\n",
    "                w[j] = sorted_substr.pop(idx-1)\n",
    "                return ''.join(w[:j]+[w[j]]+sorted_substr[::-1])\n",
    "    return 'no answer'\n",
    "\n",
    "\n",
    "print(biggerIsGreater('abcd'))\n",
    "print(biggerIsGreater('ab'))\n",
    "print(biggerIsGreater('bb'))\n",
    "print(biggerIsGreater('hefg'))\n",
    "print(biggerIsGreater('dhck'))\n",
    "print(biggerIsGreater('dkhc'))\n",
    "\n",
    "'''\n",
    "Algorithmically, this method is correct. However, it obviously exceeds the time limit.\n",
    "'''"
   ]
  },
  {
   "cell_type": "code",
   "execution_count": 30,
   "metadata": {},
   "outputs": [],
   "source": [
    "import bisect\n",
    "\n",
    "bisect.bisect_left([1,7,8,23,49], 11)"
   ]
  }
 ],
 "metadata": {
  "interpreter": {
   "hash": "464cb4416c1bbb1013f12739a10e028ffee1bbadc4388d1a4e097aa1340e7516"
  },
  "kernelspec": {
   "display_name": "Python 3.9.10 ('conda-forge')",
   "language": "python",
   "name": "python3"
  },
  "language_info": {
   "codemirror_mode": {
    "name": "ipython",
    "version": 3
   },
   "file_extension": ".py",
   "mimetype": "text/x-python",
   "name": "python",
   "nbconvert_exporter": "python",
   "pygments_lexer": "ipython3",
   "version": "3.9.10"
  },
  "orig_nbformat": 4
 },
 "nbformat": 4,
 "nbformat_minor": 2
}
